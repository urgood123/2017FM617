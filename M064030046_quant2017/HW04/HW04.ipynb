{
 "cells": [
  {
   "cell_type": "markdown",
   "metadata": {
    "collapsed": true
   },
   "source": [
    "# Q1. 寫一個九九乘法表！"
   ]
  },
  {
   "cell_type": "code",
   "execution_count": null,
   "metadata": {
    "collapsed": true
   },
   "outputs": [],
   "source": [
    "def multiplication_table(m,n):\n",
    "    for j in range(1,10):\n",
    "        for i in range(m,n+1):\n",
    "               print(i,\"x\",j,'=',i*j,\"\\t\" ,end=' ')\n",
    "        print()\n",
    "    print()"
   ]
  },
  {
   "cell_type": "code",
   "execution_count": null,
   "metadata": {
    "collapsed": true
   },
   "outputs": [],
   "source": [
    "multiplication_table(1,3)\n",
    "multiplication_table(4,6)\n",
    "multiplication_table(7,9)"
   ]
  },
  {
   "cell_type": "markdown",
   "metadata": {},
   "source": [
    "# Q2. 寫一個可以產生金字塔的函式！"
   ]
  },
  {
   "cell_type": "code",
   "execution_count": null,
   "metadata": {
    "collapsed": true
   },
   "outputs": [],
   "source": [
    "def pyramid(n):\n",
    "    for i in range(n):\n",
    "        print(\" \" *(n-i) + \"*\" * (2*i+1))"
   ]
  },
  {
   "cell_type": "code",
   "execution_count": null,
   "metadata": {
    "collapsed": true
   },
   "outputs": [],
   "source": [
    "pyramid(10)"
   ]
  },
  {
   "cell_type": "markdown",
   "metadata": {},
   "source": [
    "# Q3. 將 Q1 跟 Q2 的函式寫入一個模組，並呼叫模組裡面的函式來使用。"
   ]
  },
  {
   "cell_type": "code",
   "execution_count": 1,
   "metadata": {
    "collapsed": true
   },
   "outputs": [],
   "source": [
    "import HW04"
   ]
  },
  {
   "cell_type": "code",
   "execution_count": 2,
   "metadata": {},
   "outputs": [
    {
     "name": "stdout",
     "output_type": "stream",
     "text": [
      "1 x 1 = 1 \t 2 x 1 = 2 \t 3 x 1 = 3 \t \n",
      "1 x 2 = 2 \t 2 x 2 = 4 \t 3 x 2 = 6 \t \n",
      "1 x 3 = 3 \t 2 x 3 = 6 \t 3 x 3 = 9 \t \n",
      "1 x 4 = 4 \t 2 x 4 = 8 \t 3 x 4 = 12 \t \n",
      "1 x 5 = 5 \t 2 x 5 = 10 \t 3 x 5 = 15 \t \n",
      "1 x 6 = 6 \t 2 x 6 = 12 \t 3 x 6 = 18 \t \n",
      "1 x 7 = 7 \t 2 x 7 = 14 \t 3 x 7 = 21 \t \n",
      "1 x 8 = 8 \t 2 x 8 = 16 \t 3 x 8 = 24 \t \n",
      "1 x 9 = 9 \t 2 x 9 = 18 \t 3 x 9 = 27 \t \n",
      "\n",
      "4 x 1 = 4 \t 5 x 1 = 5 \t 6 x 1 = 6 \t \n",
      "4 x 2 = 8 \t 5 x 2 = 10 \t 6 x 2 = 12 \t \n",
      "4 x 3 = 12 \t 5 x 3 = 15 \t 6 x 3 = 18 \t \n",
      "4 x 4 = 16 \t 5 x 4 = 20 \t 6 x 4 = 24 \t \n",
      "4 x 5 = 20 \t 5 x 5 = 25 \t 6 x 5 = 30 \t \n",
      "4 x 6 = 24 \t 5 x 6 = 30 \t 6 x 6 = 36 \t \n",
      "4 x 7 = 28 \t 5 x 7 = 35 \t 6 x 7 = 42 \t \n",
      "4 x 8 = 32 \t 5 x 8 = 40 \t 6 x 8 = 48 \t \n",
      "4 x 9 = 36 \t 5 x 9 = 45 \t 6 x 9 = 54 \t \n",
      "\n",
      "7 x 1 = 7 \t 8 x 1 = 8 \t 9 x 1 = 9 \t \n",
      "7 x 2 = 14 \t 8 x 2 = 16 \t 9 x 2 = 18 \t \n",
      "7 x 3 = 21 \t 8 x 3 = 24 \t 9 x 3 = 27 \t \n",
      "7 x 4 = 28 \t 8 x 4 = 32 \t 9 x 4 = 36 \t \n",
      "7 x 5 = 35 \t 8 x 5 = 40 \t 9 x 5 = 45 \t \n",
      "7 x 6 = 42 \t 8 x 6 = 48 \t 9 x 6 = 54 \t \n",
      "7 x 7 = 49 \t 8 x 7 = 56 \t 9 x 7 = 63 \t \n",
      "7 x 8 = 56 \t 8 x 8 = 64 \t 9 x 8 = 72 \t \n",
      "7 x 9 = 63 \t 8 x 9 = 72 \t 9 x 9 = 81 \t \n",
      "\n"
     ]
    }
   ],
   "source": [
    "HW04.multiplication_table(1,3)\n",
    "HW04.multiplication_table(4,6)\n",
    "HW04.multiplication_table(7,9)"
   ]
  },
  {
   "cell_type": "code",
   "execution_count": 3,
   "metadata": {},
   "outputs": [
    {
     "name": "stdout",
     "output_type": "stream",
     "text": [
      "          *\n",
      "         ***\n",
      "        *****\n",
      "       *******\n",
      "      *********\n",
      "     ***********\n",
      "    *************\n",
      "   ***************\n",
      "  *****************\n",
      " *******************\n"
     ]
    }
   ],
   "source": [
    "HW04.pyramid(10)"
   ]
  },
  {
   "cell_type": "code",
   "execution_count": null,
   "metadata": {
    "collapsed": true
   },
   "outputs": [],
   "source": []
  }
 ],
 "metadata": {
  "kernelspec": {
   "display_name": "Python 3",
   "language": "python",
   "name": "python3"
  },
  "language_info": {
   "codemirror_mode": {
    "name": "ipython",
    "version": 3
   },
   "file_extension": ".py",
   "mimetype": "text/x-python",
   "name": "python",
   "nbconvert_exporter": "python",
   "pygments_lexer": "ipython3",
   "version": "3.6.2"
  }
 },
 "nbformat": 4,
 "nbformat_minor": 2
}
