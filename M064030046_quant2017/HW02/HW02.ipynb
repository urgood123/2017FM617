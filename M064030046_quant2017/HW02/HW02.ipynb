{
 "cells": [
  {
   "cell_type": "code",
   "execution_count": null,
   "metadata": {
    "collapsed": true
   },
   "outputs": [],
   "source": [
    "#c匯入 模組(os)\n",
    "import os\n",
    "\n",
    "#定義函數 main()\n",
    "def main():\n",
    "    #印出 \"Hello world\"\n",
    "    print(\"Hello world.\")\n",
    "    #印出 \"This is Alice's greeting.\"\n",
    "    print(\"This is Alice's greeting.\")\n",
    "    #印出 'This is Bob\\'s greeting.'\n",
    "    print('This is Bob\\'s greeting.') \n",
    "    #定義 foo 為 (5,10)\n",
    "    foo=(5,10)\n",
    "    #印出 10個'='\n",
    "    print('=' *10 )\n",
    "    #印出 'Current working directory is ' + 目前執行的位置\n",
    "    print ('Current working directory is ' + os.getcwd())\n",
    "    #定義 counter 為 1\n",
    "    counter = 1\n",
    "    #定義 counter 為 counte + 1\n",
    "    counter += 1\n",
    "    #定義 food 為 字串  [\"apple\",\"oranges\",\"cats\"] \n",
    "    food = [\"apple\",\"oranges\",\"cats\"] \n",
    "    #建立 i 在 food 裡的迴圈 \n",
    "    for i in food: \n",
    "        #印出 \"I like to eat \" + food裡的第i個字元\n",
    "        print(\"I like to eat \" + i)\n",
    "        #印出 'Count to ten:'\n",
    "        print('Count to ten:')\n",
    "        #建立 i 範圍在 0到9 的迴圈\n",
    "        for i in range(10):\n",
    "            #印出 i+1 \n",
    "            print (i+1)\n",
    "#定義函數 foo ( param1為參數1, secondPram為參數2 )    \n",
    "\n",
    "def foo(param1,secondPram):\n",
    "    #定義 res 為  param1 + secondPram\n",
    "    res = param1 + secondPram\n",
    "    #利用函數 format 印出 \" param1  + secondPram is equal to res \"\n",
    "    print ('{} plus {} is equal to {}'.format(param1,secondPram,res))\n",
    "    #建立 if 判斷式\n",
    "    #如果 res < 50\n",
    "    if res < 50:\n",
    "        #印出 'foo'\n",
    "        print('foo')\n",
    "    #如果 res >= 50 和 ( (param1 為 42) 或 (secondPram 為 24) ) 同時滿足\n",
    "    elif res >= 50  and ((param1==42) or (secondPram==24)):\n",
    "        #印出 'bar'\n",
    "        print ('bar') \n",
    "    #其他情況     \n",
    "    else:\n",
    "        #印出 'moo'\n",
    "        print ('moo')\n",
    "    #傳回 res\n",
    "    return res\n",
    "#如果 __name__ == '__main__': (檢測modual是自己執行還是被執行)\n",
    "if __name__ == '__main__':\n",
    "    #執行函數 main\n",
    "    main()\n"
   ]
  }
 ],
 "metadata": {
  "kernelspec": {
   "display_name": "Python 3",
   "language": "python",
   "name": "python3"
  },
  "language_info": {
   "codemirror_mode": {
    "name": "ipython",
    "version": 3
   },
   "file_extension": ".py",
   "mimetype": "text/x-python",
   "name": "python",
   "nbconvert_exporter": "python",
   "pygments_lexer": "ipython3",
   "version": "3.6.2"
  }
 },
 "nbformat": 4,
 "nbformat_minor": 2
}
