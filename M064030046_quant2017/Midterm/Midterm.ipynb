{
 "cells": [
  {
   "cell_type": "code",
   "execution_count": null,
   "metadata": {
    "collapsed": true
   },
   "outputs": [],
   "source": [
    "import ffn\n",
    "%matplotlib inline\n",
    "import numpy as np\n",
    "import pandas as pd\n",
    "import pandas_datareader.data as web\n",
    "from datetime import datetime\n",
    "import pickle\n",
    "import talib\n",
    "from talib import MA_Type\n",
    "import requests\n",
    "import io"
   ]
  },
  {
   "cell_type": "code",
   "execution_count": null,
   "metadata": {
    "collapsed": true
   },
   "outputs": [],
   "source": [
    "# 讀出預先下載好的股價資料\n",
    "with open('stockdata', 'rb') as f:\n",
    "    data = pickle.load(file=f)"
   ]
  },
  {
   "cell_type": "markdown",
   "metadata": {},
   "source": [
    "# Q1. 畫出 Diamond Shape"
   ]
  },
  {
   "cell_type": "code",
   "execution_count": null,
   "metadata": {},
   "outputs": [],
   "source": [
    "def diamond(n):\n",
    "    for i in range(n):\n",
    "        print(\" \" *(n-i) + \"*\" * (2*i+1))\n",
    "    for j in range(n-2,-1,-1):\n",
    "        print(\" \" *(n-j) + \"*\" * (2*j+1))    "
   ]
  },
  {
   "cell_type": "code",
   "execution_count": null,
   "metadata": {},
   "outputs": [],
   "source": [
    "diamond(5)"
   ]
  },
  {
   "cell_type": "markdown",
   "metadata": {},
   "source": [
    "# Q2. 刪除重複性資料\n",
    "\n",
    "從 symbols01.txt 跟 symbols02.txt 讀入兩組股票代號，合併兩組代號，輸出一份無重複的股票代號到 symbols03.txt。"
   ]
  },
  {
   "cell_type": "code",
   "execution_count": null,
   "metadata": {
    "collapsed": true
   },
   "outputs": [],
   "source": [
    "with open('symbols01.txt','r') as f1:\n",
    "    symbols_01=f1.read().strip().split(\"\\n\")\n",
    "    set_01=set(symbols_01)"
   ]
  },
  {
   "cell_type": "code",
   "execution_count": null,
   "metadata": {
    "collapsed": true
   },
   "outputs": [],
   "source": [
    "with open('symbols02.txt','r') as f2:\n",
    "    symbols_02=f2.read().strip().split(\"\\n\")\n",
    "    set_02=set(symbols_02)"
   ]
  },
  {
   "cell_type": "code",
   "execution_count": null,
   "metadata": {
    "collapsed": true
   },
   "outputs": [],
   "source": [
    "symbols_03 = list(set_01|set_02)"
   ]
  },
  {
   "cell_type": "code",
   "execution_count": null,
   "metadata": {},
   "outputs": [],
   "source": [
    "symbols_03"
   ]
  },
  {
   "cell_type": "code",
   "execution_count": null,
   "metadata": {
    "collapsed": true
   },
   "outputs": [],
   "source": [
    "with open('symbols03.txt','w') as f3:\n",
    "    for i in symbols_03:\n",
    "        f3.write(i.strip().upper()+\"\\n\")\n",
    "      "
   ]
  },
  {
   "cell_type": "markdown",
   "metadata": {},
   "source": [
    "# Q3. 下載台灣上市公司基本資料"
   ]
  },
  {
   "cell_type": "markdown",
   "metadata": {},
   "source": [
    "寫一個程式從 [http://dts.twse.com.tw/opendata/t187ap03_L.csv](http://dts.twse.com.tw/opendata/t187ap03_L.csv) 下載台灣上市公司基本資料，並輸出成 pandas dataframe。"
   ]
  },
  {
   "cell_type": "code",
   "execution_count": null,
   "metadata": {
    "collapsed": true
   },
   "outputs": [],
   "source": [
    "r = requests.get(\"http://dts.twse.com.tw/opendata/t187ap03_L.csv\")\n",
    "r.encoding = \"big5\"\n",
    "q3 = io.StringIO(r.text)\n",
    "Q3 = pd.read_csv(q3, skiprows=1)"
   ]
  },
  {
   "cell_type": "code",
   "execution_count": null,
   "metadata": {
    "collapsed": true
   },
   "outputs": [],
   "source": [
    "r = requests.get(\"http://dts.twse.com.tw/opendata/t187ap03_L.csv\")\n",
    "r.encoding = \"big5\""
   ]
  },
  {
   "cell_type": "code",
   "execution_count": null,
   "metadata": {},
   "outputs": [],
   "source": [
    "q3 = io.StringIO(r.text)\n",
    "Q3 = pd.read_csv(q3, skiprows=1)\n",
    "Q3"
   ]
  },
  {
   "cell_type": "markdown",
   "metadata": {},
   "source": [
    "# Q4. 畫出技術曲線\n",
    "\n",
    "請畫出除了上課提過的線型之外的任何技術曲線，並寫註解說明。"
   ]
  },
  {
   "cell_type": "code",
   "execution_count": null,
   "metadata": {
    "collapsed": true
   },
   "outputs": [],
   "source": [
    "df = data['GOOG']"
   ]
  },
  {
   "cell_type": "code",
   "execution_count": null,
   "metadata": {},
   "outputs": [],
   "source": [
    "df"
   ]
  },
  {
   "cell_type": "code",
   "execution_count": null,
   "metadata": {
    "collapsed": true
   },
   "outputs": [],
   "source": [
    "# 計算均線\n",
    "df['5d'] = pd.Series.rolling(df['Close'], window=5).mean()\n",
    "df['20d'] = pd.Series.rolling(df['Close'], window=20).mean()\n",
    "df['60d'] = pd.Series.rolling(df['Close'], window=60).mean()"
   ]
  },
  {
   "cell_type": "code",
   "execution_count": null,
   "metadata": {
    "collapsed": true
   },
   "outputs": [],
   "source": [
    "# 計算 RSV(9天)\n",
    "df['RSV'] = 100*( (df['Close'] - df['Low'].rolling(window=9).min())/\n",
    "                 (df['High'].rolling(window=9).max() - df['Low'].rolling(window=9).min()) )\n"
   ]
  },
  {
   "cell_type": "code",
   "execution_count": null,
   "metadata": {},
   "outputs": [],
   "source": [
    "#計算 K(9天)\n",
    "df['K']= np.nan\n",
    "df['K'][7] = 50\n",
    "for i in range(8,len(df)):\n",
    "    K_value = (1/3) * df['RSV'][i] + (2/3) *df['K'][i-1]\n",
    "    df['K'][i] = K_value"
   ]
  },
  {
   "cell_type": "code",
   "execution_count": null,
   "metadata": {},
   "outputs": [],
   "source": [
    "#計算 D(9天)\n",
    "df['D']= np.nan\n",
    "df['D'][7] = 50\n",
    "for i in range(8,len(df)):\n",
    "    D_value = (1/3) * df['K'][i] + (2/3) *df['D'][i-1]\n",
    "    df['D'][i] = D_value"
   ]
  },
  {
   "cell_type": "code",
   "execution_count": null,
   "metadata": {},
   "outputs": [],
   "source": [
    "#計算 J(9天)\n",
    "df['J']=3*df['D']-2*df['K']\n",
    "df"
   ]
  },
  {
   "cell_type": "code",
   "execution_count": null,
   "metadata": {},
   "outputs": [],
   "source": [
    "df[['Close','5d','20d','60d']].plot(legend='best', figsize=(10,8))"
   ]
  },
  {
   "cell_type": "code",
   "execution_count": null,
   "metadata": {},
   "outputs": [],
   "source": [
    "df[['K','D','J']].plot(legend='best', figsize=(10,8))"
   ]
  },
  {
   "cell_type": "code",
   "execution_count": null,
   "metadata": {
    "collapsed": true
   },
   "outputs": [],
   "source": []
  },
  {
   "cell_type": "markdown",
   "metadata": {},
   "source": [
    "# Q5. 策略回測"
   ]
  },
  {
   "cell_type": "code",
   "execution_count": null,
   "metadata": {
    "collapsed": true
   },
   "outputs": [],
   "source": [
    "# 計算 MaxDD\n",
    "def DrawDownAnalysis(cumRet):\n",
    "    dd_series = ffn.core.to_drawdown_series(cumRet)\n",
    "    dd_details = ffn.core.drawdown_details(dd_series)\n",
    "    return dd_details['drawdown'].min(), dd_details['days'].max()"
   ]
  },
  {
   "cell_type": "code",
   "execution_count": null,
   "metadata": {
    "collapsed": true
   },
   "outputs": [],
   "source": [
    "# 利用策略產生的持有部位資訊，計算底下四個指標來判斷投資績效\n",
    "# sharpe ratio: 判斷報酬的好壞跟穩定度，數值越大越好\n",
    "# maxdd: maximum drawdown, 最糟糕的狀況會賠幾 %\n",
    "# maxddd: maximum drawdown duration, 低於上一次最高報酬的天數\n",
    "# cumRet[-1]: 最後賺的 % 數\n",
    "\n",
    "def indicators(df):\n",
    "    dailyRet = df['Close'].pct_change()\n",
    "    excessRet = (dailyRet - 0.04/252)[df['positions'] == 1]\n",
    "    SharpeRatio = np.sqrt(252.0)*np.mean(excessRet)/np.std(excessRet)\n",
    "    \n",
    "    cumRet = np.cumprod(1+excessRet)\n",
    "    \n",
    "    maxdd, maxddd = DrawDownAnalysis(cumRet)\n",
    "    \n",
    "    return SharpeRatio, maxdd, maxddd, cumRet[-1]"
   ]
  },
  {
   "cell_type": "code",
   "execution_count": null,
   "metadata": {
    "collapsed": true
   },
   "outputs": [],
   "source": [
    "# 這是我們的策略的部分\n",
    "# 主要只是要算出進出的訊號 signals 跟何時持有部位 positions\n",
    "# 底下是一個突破系統的範例\n",
    "\n",
    "def Breakout_strategy(df):\n",
    "    # Donchian Channel\n",
    "    df['20d_high'] = np.round(pd.Series.rolling(df['Close'], window=20).max(), 2)\n",
    "    df['10d_low'] = np.round(pd.Series.rolling(df['Close'], window=10).min(), 2)\n",
    "\n",
    "    has_position = False\n",
    "    df['signals'] = 0\n",
    "    for t in range(2, df['signals'].size):\n",
    "        if df['Close'][t] > df['20d_high'][t-1]:\n",
    "            if not has_position:\n",
    "                df.loc[df.index[t], 'signals'] = 1\n",
    "                has_position = True\n",
    "        elif df['Close'][t] < df['10d_low'][t-1]:\n",
    "            if has_position:\n",
    "                df.loc[df.index[t], 'signals'] = -1\n",
    "                has_position = False\n",
    "\n",
    "    df['positions'] = df['signals'].cumsum().shift()\n",
    "    return df"
   ]
  },
  {
   "cell_type": "code",
   "execution_count": null,
   "metadata": {
    "collapsed": true
   },
   "outputs": [],
   "source": [
    "def RSI_7030_strategy(df):\n",
    "    df['RSI'] = talib.RSI(df['Close'].values)\n",
    "    \n",
    "    has_position = False\n",
    "    df['signals'] = 0\n",
    "    for t in range(2, df['signals'].size):\n",
    "        if df['RSI'][t-1] < 30:\n",
    "            if not has_position:\n",
    "                df.loc[df.index[t], 'signals'] = 1\n",
    "                has_position = True\n",
    "        elif df['RSI'][t-1] > 70:\n",
    "            if has_position:\n",
    "                df.loc[df.index[t], 'signals'] = -1\n",
    "                has_position = False\n",
    "\n",
    "    df['positions'] = df['signals'].cumsum().shift()\n",
    "    return df"
   ]
  },
  {
   "cell_type": "code",
   "execution_count": null,
   "metadata": {
    "collapsed": true
   },
   "outputs": [],
   "source": [
    "def BBands_strategy(df):\n",
    "    df['UBB'], df['MBB'], df['LBB'] = talib.BBANDS(df['Close'].values, matype=MA_Type.T3)\n",
    "\n",
    "    has_position = False\n",
    "    df['signals'] = 0\n",
    "    for t in range(2, df['signals'].size):\n",
    "        if df['Close'][t] < df['LBB'][t-1]:\n",
    "            if not has_position:\n",
    "                df.loc[df.index[t], 'signals'] = 1\n",
    "                has_position = True\n",
    "        elif df['Close'][t] > df['UBB'][t-1]:\n",
    "            if has_position:\n",
    "                df.loc[df.index[t], 'signals'] = -1\n",
    "                has_position = False\n",
    "\n",
    "    df['positions'] = df['signals'].cumsum().shift()\n",
    "    return df"
   ]
  },
  {
   "cell_type": "code",
   "execution_count": null,
   "metadata": {
    "collapsed": true
   },
   "outputs": [],
   "source": [
    "# 定義你的策略\n",
    "# 進場條件 : 當 K > D 且 K, D 皆 < 20  黃金交叉 買進\n",
    "# 出場條件 : 當 D < K 且 K, D 皆 < 80  死亡交叉 賣出\n",
    "\n",
    "def M064030046_strategy(df):\n",
    "    # 計算 RSV(9天)\n",
    "    df['RSV'] = 100*( (df['Close'] - df['Low'].rolling(window=9).min())/\n",
    "                     (df['High'].rolling(window=9).max() - df['Low'].rolling(window=9).min()) )\n",
    "\n",
    "    #計算 K(9天)\n",
    "    df['K']= np.nan\n",
    "    df['K'][7] = 50\n",
    "    for i in range(8,len(df)):\n",
    "        K_value = (1/3) * df['RSV'][i] + (2/3) *df['K'][i-1]\n",
    "        df['K'][i] = K_value\n",
    "    #計算 D(9天)\n",
    "    df['D']= np.nan\n",
    "    df['D'][7] = 50\n",
    "    for i in range(8,len(df)):\n",
    "        D_value = (1/3) * df['K'][i] + (2/3) *df['D'][i-1]\n",
    "        df['D'][i] = D_value        \n",
    "    \n",
    "    has_position = False\n",
    "    df['signals'] = 0\n",
    "    for t in range(2, df['signals'].size):\n",
    "        if( (df['K'][t] > df['D'][t]) & (df['K'][t]<20) & (df['D'][t]<20) ):\n",
    "            if not has_position:\n",
    "                df.loc[df.index[t], 'signals'] = 1\n",
    "                has_position = True\n",
    "        elif ( (df['K'][t] < df['D'][t]) & (df['K'][t]>80) & (df['D'][t]>80) ):\n",
    "            if has_position:\n",
    "                df.loc[df.index[t], 'signals'] = -1\n",
    "                has_position = False    \n",
    "   \n",
    "    df['positions'] = df['signals'].cumsum().shift()\n",
    "    return df"
   ]
  },
  {
   "cell_type": "code",
   "execution_count": null,
   "metadata": {
    "collapsed": true
   },
   "outputs": [],
   "source": [
    "def apply_strategy(strategy, df):\n",
    "    return strategy(df)"
   ]
  },
  {
   "cell_type": "code",
   "execution_count": null,
   "metadata": {},
   "outputs": [],
   "source": [
    "# 計算各支股票的回測結果\n",
    "results = []\n",
    "\n",
    "#strategies = [Breakout_strategy, RSI_7030_strategy, BBands_strategy, 學號_strategy]\n",
    "strategies = [Breakout_strategy, RSI_7030_strategy, BBands_strategy,  M064030046_strategy]\n",
    "\n",
    "for symbol in data:\n",
    "    for strategy in strategies:\n",
    "        try:\n",
    "            apply_strategy(strategy, data[symbol])\n",
    "            if np.all(data[symbol]['signals']==0):\n",
    "                print(\"Symbol:\", symbol, \"使用\", strategy.__name__, \"策略沒有出現買賣訊號。\")\n",
    "                continue\n",
    "            SharpeRatio, maxdd, maxddd, finalRet = indicators(data[symbol])\n",
    "            days = (data[symbol].index[-1] - data[symbol].index[0]).days\n",
    "            results.append((SharpeRatio, maxdd, maxddd, finalRet, days,\n",
    "                            data[symbol][data[symbol]['signals'] > 0]['signals'].sum(), symbol, strategy.__name__))\n",
    "        except Exception as e:\n",
    "            print(\"Error occurs at symbol:\", symbol, \"Strategy:\", strategy.__name__, \"==>\", e.args)"
   ]
  },
  {
   "cell_type": "code",
   "execution_count": null,
   "metadata": {
    "collapsed": true
   },
   "outputs": [],
   "source": [
    "results_df = pd.DataFrame(results, columns=['sharpe','MaxDrawDown','MaxDrawDownDuration','returns', \n",
    "                                            'days', 'entries','symbol','strategy'])"
   ]
  },
  {
   "cell_type": "code",
   "execution_count": null,
   "metadata": {},
   "outputs": [],
   "source": [
    "results_df.head()"
   ]
  },
  {
   "cell_type": "code",
   "execution_count": null,
   "metadata": {},
   "outputs": [],
   "source": [
    "results_df.sort_values('MaxDrawDown',ascending=False).head()"
   ]
  },
  {
   "cell_type": "code",
   "execution_count": null,
   "metadata": {},
   "outputs": [],
   "source": [
    "results_df.sort_values('returns',ascending=False).head()"
   ]
  },
  {
   "cell_type": "code",
   "execution_count": null,
   "metadata": {
    "collapsed": true
   },
   "outputs": [],
   "source": []
  },
  {
   "cell_type": "code",
   "execution_count": null,
   "metadata": {
    "collapsed": true
   },
   "outputs": [],
   "source": []
  },
  {
   "cell_type": "code",
   "execution_count": null,
   "metadata": {
    "collapsed": true
   },
   "outputs": [],
   "source": []
  },
  {
   "cell_type": "code",
   "execution_count": null,
   "metadata": {
    "collapsed": true
   },
   "outputs": [],
   "source": []
  },
  {
   "cell_type": "code",
   "execution_count": null,
   "metadata": {
    "collapsed": true
   },
   "outputs": [],
   "source": []
  },
  {
   "cell_type": "code",
   "execution_count": null,
   "metadata": {
    "collapsed": true
   },
   "outputs": [],
   "source": []
  },
  {
   "cell_type": "code",
   "execution_count": null,
   "metadata": {
    "collapsed": true
   },
   "outputs": [],
   "source": []
  },
  {
   "cell_type": "code",
   "execution_count": null,
   "metadata": {
    "collapsed": true
   },
   "outputs": [],
   "source": []
  },
  {
   "cell_type": "code",
   "execution_count": null,
   "metadata": {
    "collapsed": true
   },
   "outputs": [],
   "source": []
  },
  {
   "cell_type": "code",
   "execution_count": null,
   "metadata": {
    "collapsed": true
   },
   "outputs": [],
   "source": []
  }
 ],
 "metadata": {
  "kernelspec": {
   "display_name": "Python 3",
   "language": "python",
   "name": "python3"
  },
  "language_info": {
   "codemirror_mode": {
    "name": "ipython",
    "version": 3
   },
   "file_extension": ".py",
   "mimetype": "text/x-python",
   "name": "python",
   "nbconvert_exporter": "python",
   "pygments_lexer": "ipython3",
   "version": "3.6.2"
  }
 },
 "nbformat": 4,
 "nbformat_minor": 2
}
